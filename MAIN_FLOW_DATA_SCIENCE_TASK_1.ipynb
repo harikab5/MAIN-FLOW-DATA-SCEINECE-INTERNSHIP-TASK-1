{
  "nbformat": 4,
  "nbformat_minor": 0,
  "metadata": {
    "colab": {
      "provenance": [],
      "authorship_tag": "ABX9TyMXMEqeWbUXw5CXjl11e0WN",
      "include_colab_link": true
    },
    "kernelspec": {
      "name": "python3",
      "display_name": "Python 3"
    },
    "language_info": {
      "name": "python"
    }
  },
  "cells": [
    {
      "cell_type": "markdown",
      "metadata": {
        "id": "view-in-github",
        "colab_type": "text"
      },
      "source": [
        "<a href=\"https://colab.research.google.com/github/harikab5/MAIN-FLOW-DATA-SCEINECE-INTERNSHIP-TASK-1/blob/main/MAIN_FLOW_DATA_SCIENCE_TASK_1.ipynb\" target=\"_parent\"><img src=\"https://colab.research.google.com/assets/colab-badge.svg\" alt=\"Open In Colab\"/></a>"
      ]
    },
    {
      "cell_type": "markdown",
      "source": [
        "MAIN FLOW SERVICES AND TECHNOLOGIES\n",
        "                DATA SCIENCE WITH PYTHON INTERSHIP\n",
        "                         TASK-1\n",
        "\n",
        "\n",
        "                DESCRIPTION:\n",
        "\n",
        "                Write a python progam to create a list ,a dictionary, and a set .Perform basic operations like adding,removing,and modifying\n",
        "                elements\n",
        "                \n",
        "                "
      ],
      "metadata": {
        "id": "WHBpkuOySIYs"
      }
    },
    {
      "cell_type": "markdown",
      "source": [
        "LISTS\n",
        "\n"
      ],
      "metadata": {
        "id": "3ffKUUNCVVix"
      }
    },
    {
      "cell_type": "code",
      "source": [
        "#LISTS\n",
        "\n",
        "#CREATION OF LISTS IN VARIOUS WAYS\n",
        "\n",
        "#USING SQUARE BRACKETS\n",
        "my_list=[1,2,3,4,5]\n",
        "print(\"USING SQUARE BRACKETS\")\n",
        "print(my_list)\n",
        "\n",
        "#USING list() CONSTRUCTOR\n",
        "my_list=list([1,2,3,4,5])\n",
        "print(\"USING SQUARE BRACKETS\")\n",
        "print(my_list)\n",
        "\n",
        "#USING LIST COMPREHENSION\n",
        "my_list=[x for x in range(1,6)]\n",
        "print(\"USING LIST COMPREHENSION\")\n",
        "print(my_list)"
      ],
      "metadata": {
        "colab": {
          "base_uri": "https://localhost:8080/"
        },
        "id": "EgQ3MBRCVXU_",
        "outputId": "79111738-4a4d-45a5-bd69-2c491c240f9c"
      },
      "execution_count": null,
      "outputs": [
        {
          "output_type": "stream",
          "name": "stdout",
          "text": [
            "USING SQUARE BRACKETS\n",
            "[1, 2, 3, 4, 5]\n",
            "USING SQUARE BRACKETS\n",
            "[1, 2, 3, 4, 5]\n",
            "USING LIST COMPREHENSION\n",
            "[1, 2, 3, 4, 5]\n"
          ]
        }
      ]
    },
    {
      "cell_type": "markdown",
      "source": [
        "BASIC OPERATIONS ON LISTS\n"
      ],
      "metadata": {
        "id": "-813_ZsJWoqj"
      }
    },
    {
      "cell_type": "code",
      "source": [
        "my_list=[1,2,3,4,5]\n",
        "print(\"BEFORE PERFORMING OPERATIONS\")\n",
        "print(my_list)\n",
        "\n",
        "#BASIC OPERATIONS\n",
        "\n",
        "#ADDING AN ELEMENT TO THE LIST\n",
        "my_list.append(758)\n",
        "print(\"after adding an element\",my_list)\n",
        "\n",
        "#REMOVING AN ELEMENT FROM LIST\n",
        "my_list.remove(2)\n",
        "print(\"after removing an element\",my_list)\n",
        "\n",
        "#MODIFYING AN ELEMENT IN LIST\n",
        "my_list[1]=35\n",
        "print(\"after modifying an element\",my_list)"
      ],
      "metadata": {
        "colab": {
          "base_uri": "https://localhost:8080/"
        },
        "id": "gwV2yGo8WruG",
        "outputId": "c8cc7495-8ae2-4533-b53a-5e77620a8a30"
      },
      "execution_count": null,
      "outputs": [
        {
          "output_type": "stream",
          "name": "stdout",
          "text": [
            "BEFORE PERFORMING OPERATIONS\n",
            "[1, 2, 3, 4, 5]\n",
            "after adding an element [1, 2, 3, 4, 5, 758]\n",
            "after removing an element [1, 3, 4, 5, 758]\n",
            "after modifying an element [1, 35, 4, 5, 758]\n"
          ]
        }
      ]
    },
    {
      "cell_type": "markdown",
      "source": [
        "DICTIONARIES\n"
      ],
      "metadata": {
        "id": "QoQMpjlTXflc"
      }
    },
    {
      "cell_type": "code",
      "source": [
        "#CREATING DICTIONARIES IN VARIOUS WAYS\n",
        "\n",
        "#USING CURLY BRACES\n",
        "my_dict={'a':1,'b':2,'c':3}\n",
        "print(\"USING CURLY BRACES\")\n",
        "print(my_dict)\n",
        "\n",
        "#USING dict() CONSTRUCTOR\n",
        "my_dict=dict(a=1,b=2,c=3)\n",
        "print(\"USING dict() CONSTRUCTOR\")\n",
        "print(my_dict)\n",
        "\n",
        "#FROM LIST TO TUPLES\n",
        "my_dict=dict([('a',1),('b',2),('c',3)])\n",
        "print(\"FROM LIST TO TUPLES\")\n",
        "print(my_dict)"
      ],
      "metadata": {
        "colab": {
          "base_uri": "https://localhost:8080/"
        },
        "id": "kycytcD-Xhr-",
        "outputId": "770b1623-ebf0-47c0-d8a7-cf6a36d82cf9"
      },
      "execution_count": null,
      "outputs": [
        {
          "output_type": "stream",
          "name": "stdout",
          "text": [
            "USING CURLY BRACES\n",
            "{'a': 1, 'b': 2, 'c': 3}\n",
            "USING dict() CONSTRUCTOR\n",
            "{'a': 1, 'b': 2, 'c': 3}\n",
            "FROM LIST TO TUPLES\n",
            "{'a': 1, 'b': 2, 'c': 3}\n"
          ]
        }
      ]
    },
    {
      "cell_type": "markdown",
      "source": [
        "BASIC OPERATIONS ON DICTIONARY"
      ],
      "metadata": {
        "id": "z_hYaQdTYaoP"
      }
    },
    {
      "cell_type": "code",
      "source": [
        "my_dict={'a': 1, 'b': 2, 'c': 3}\n",
        "print(\"BEFORE PERFORMING OPERATIONS\")\n",
        "print(my_dict)\n",
        "\n",
        "#BASIC OPERATIONS\n",
        "\n",
        "#ADDING AN ELEMENT TO DICTIONARY\n",
        "my_dict['d']=23\n",
        "print(\"after adding an element\",my_dict)\n",
        "\n",
        "#REMOVING AN ELEMENT\n",
        "del my_dict['b']\n",
        "print(\"after removing an element\",my_dict)\n",
        "\n",
        "#MODIFYING A VALUE\n",
        "my_dict['a']=56\n",
        "print(\"after modifying the value\",my_dict)\n"
      ],
      "metadata": {
        "colab": {
          "base_uri": "https://localhost:8080/"
        },
        "id": "C0HLw1q1YgX6",
        "outputId": "c2f6bccc-c812-45c0-850a-44e07190c8d4"
      },
      "execution_count": null,
      "outputs": [
        {
          "output_type": "stream",
          "name": "stdout",
          "text": [
            "BEFORE PERFORMING OPERATIONS\n",
            "{'a': 1, 'b': 2, 'c': 3}\n",
            "after adding an element {'a': 1, 'b': 2, 'c': 3, 'd': 23}\n",
            "after removing an element {'a': 1, 'c': 3, 'd': 23}\n",
            "after modifying the value {'a': 56, 'c': 3, 'd': 23}\n"
          ]
        }
      ]
    },
    {
      "cell_type": "markdown",
      "source": [
        "SETS\n"
      ],
      "metadata": {
        "id": "yW4XfMzSZeR_"
      }
    },
    {
      "cell_type": "code",
      "source": [
        "#SETS\n",
        "\n",
        "#CREATING SETS IN VARIOUS WAYS\n",
        "\n",
        "#USING CURLY BRACES\n",
        "my_set={1,2,3,4,5}\n",
        "print(\"USING CURLY BRACES\")\n",
        "print(my_set)\n",
        "\n",
        "#USING set() CONSTRUTOR\n",
        "my_set=set([1,2,3,4,5])\n",
        "print(\"USING set() CONSTRUTOR\")\n",
        "print(my_set)\n",
        "\n",
        "#FROM STRING (CREATES A SET OF CHARACTERS)\n",
        "my_set=set(\"HARIKA\")\n",
        "print(\"FROM STRING (CREATES A SET OF CHARACTERS)\")\n",
        "print(my_set)\n",
        "\n",
        "#USING SET COMPREHENSION\n",
        "my_set={x for x in range(1,6)}\n",
        "print(\"USING SET COMPREHENSION\")\n",
        "print(my_set)"
      ],
      "metadata": {
        "colab": {
          "base_uri": "https://localhost:8080/"
        },
        "id": "wKlo7qSVZlsj",
        "outputId": "302477a2-52fc-4736-c924-e104f6504817"
      },
      "execution_count": null,
      "outputs": [
        {
          "output_type": "stream",
          "name": "stdout",
          "text": [
            "USING CURLY BRACES\n",
            "{1, 2, 3, 4, 5}\n",
            "USING set() CONSTRUTOR\n",
            "{1, 2, 3, 4, 5}\n",
            "FROM STRING (CREATES A SET OF CHARACTERS)\n",
            "{'A', 'R', 'K', 'I', 'H'}\n",
            "USING SET COMPREHENSION\n",
            "{1, 2, 3, 4, 5}\n"
          ]
        }
      ]
    },
    {
      "cell_type": "markdown",
      "source": [
        "BASIC OPERATIONS ON SETS"
      ],
      "metadata": {
        "id": "Ruq3iiRDaq99"
      }
    },
    {
      "cell_type": "code",
      "source": [
        "my_set={1,2,3,4,5}\n",
        "print(\"BEFORE PERFORMING OPERATIONS ON SET\")\n",
        "print(my_set)\n",
        "\n",
        "#BASIC OPERATIONS\n",
        "\n",
        "#ADDING AN ELEMENT\n",
        "my_set.add(500)\n",
        "print(\"after adding an element\",my_set)\n",
        "\n",
        "#REMOVING A  ELEMENT\n",
        "my_set.remove(2)\n",
        "print(\"after removing a element\",my_set)\n",
        "\n",
        "#MODIFYING **(MODIFYING IS NOT DIRECTLY POSSIBLE ON SETS)**\n",
        "my_set.discard(3)\n",
        "my_set.add(75)\n",
        "print(\"after modifying \",my_set)"
      ],
      "metadata": {
        "colab": {
          "base_uri": "https://localhost:8080/"
        },
        "id": "fmEOxFRkat4R",
        "outputId": "4a6aa42d-2632-4f65-88c0-7277cd93f176"
      },
      "execution_count": null,
      "outputs": [
        {
          "output_type": "stream",
          "name": "stdout",
          "text": [
            "BEFORE PERFORMING OPERATIONS ON SET\n",
            "{1, 2, 3, 4, 5}\n",
            "after adding an element {1, 2, 3, 4, 5, 500}\n",
            "after removing a element {1, 3, 4, 5, 500}\n",
            "after modifying  {1, 4, 5, 500, 75}\n"
          ]
        }
      ]
    }
  ]
}